{
 "cells": [
  {
   "cell_type": "markdown",
   "id": "a31f9f70",
   "metadata": {},
   "source": [
    "## 🚀 Quick Start Note\n",
    "\n",
    "**✅ The Streamlit app now automatically processes data!** \n",
    "\n",
    "Just run `streamlit run app/app.py` directly - no need to execute this notebook first.\n",
    "\n",
    "### 📚 Why This Notebook Still Exists:\n",
    "\n",
    "- **🔍 Transparency**: See exactly how your data is processed\n",
    "- **🛠️ Customization**: Modify ETL logic for different data sources  \n",
    "- **📊 Exploration**: Interactive analysis and debugging\n",
    "- **🎓 Learning**: Understand data science best practices\n",
    "- **🔧 Flexibility**: Alternative workflow for notebook-based users\n",
    "\n",
    "### 🎯 When to Use This Notebook:\n",
    "\n",
    "- You want to understand the data processing pipeline\n",
    "- You need to modify the ETL logic\n",
    "- You prefer interactive data exploration\n",
    "- You want to add new data sources or metrics\n",
    "- You're learning about data engineering workflows"
   ]
  },
  {
   "cell_type": "markdown",
   "id": "9d2572d1",
   "metadata": {},
   "source": [
    "# Data Processing Pipeline (Optional)\n",
    "\n",
    "**📱 For App Users**: This processing now happens automatically in the Streamlit app!\n",
    "\n",
    "**🔬 For Data Scientists**: This notebook shows the complete ETL pipeline for transparency and customization.\n",
    "\n",
    "This notebook demonstrates how marketing and business data is processed into a unified daily dataset for the dashboard."
   ]
  },
  {
   "cell_type": "markdown",
   "id": "cc86de42",
   "metadata": {},
   "source": [
    "## 1. Import Required Libraries\n",
    "Import pandas and numpy for data manipulation and analysis."
   ]
  },
  {
   "cell_type": "code",
   "execution_count": 1,
   "id": "59f50089",
   "metadata": {},
   "outputs": [],
   "source": [
    "import pandas as pd\n",
    "import numpy as np\n",
    "from pathlib import Path"
   ]
  },
  {
   "cell_type": "code",
   "execution_count": 2,
   "id": "4542c5ca",
   "metadata": {},
   "outputs": [],
   "source": [
    "import zipfile\n",
    "import os"
   ]
  },
  {
   "cell_type": "markdown",
   "id": "d31ddc7d",
   "metadata": {},
   "source": [
    "## 2. Load CSV Files and Parse Dates\n",
    "Load Facebook.csv, Google.csv, TikTok.csv, and Business.csv from the data/ directory, ensuring date columns are parsed as datetime objects."
   ]
  },
  {
   "cell_type": "code",
   "execution_count": 3,
   "id": "f5500465",
   "metadata": {},
   "outputs": [],
   "source": [
    "# Define data directory\n",
    "DATA_DIR = Path('../data')\n",
    "\n",
    "# Load CSVs with date parsing\n",
    "df_fb = pd.read_csv(DATA_DIR / 'Facebook.csv', parse_dates=['date'])\n",
    "df_gg = pd.read_csv(DATA_DIR / 'Google.csv', parse_dates=['date'])\n",
    "df_tt = pd.read_csv(DATA_DIR / 'TikTok.csv', parse_dates=['date'])\n",
    "df_biz = pd.read_csv(DATA_DIR / 'Business.csv', parse_dates=['date'])"
   ]
  },
  {
   "cell_type": "code",
   "execution_count": 4,
   "id": "79514fe0",
   "metadata": {},
   "outputs": [],
   "source": [
    "# Unzip any zip files in the data directory\n",
    "for file in os.listdir(DATA_DIR):\n",
    "    if file.endswith('.zip'):\n",
    "        with zipfile.ZipFile(DATA_DIR / file, 'r') as zip_ref:\n",
    "            zip_ref.extractall(DATA_DIR)\n",
    "        print(f\"Unzipped {file}\")"
   ]
  },
  {
   "cell_type": "markdown",
   "id": "f2532344",
   "metadata": {},
   "source": [
    "## 3. Standardize Column Names\n",
    "Rename columns in all DataFrames to a consistent naming convention (e.g., lowercase, underscores)."
   ]
  },
  {
   "cell_type": "code",
   "execution_count": 5,
   "id": "c92e6a48",
   "metadata": {},
   "outputs": [],
   "source": [
    "def standardize_columns(df):\n",
    "    df.columns = (\n",
    "        df.columns.str.strip().str.lower().str.replace(' ', '_').str.replace('#', 'num').str.replace(r'[^a-z0-9_]', '', regex=True)\n",
    "    )\n",
    "    return df\n",
    "\n",
    "# Standardize columns\n",
    "df_fb = standardize_columns(df_fb)\n",
    "df_gg = standardize_columns(df_gg)\n",
    "df_tt = standardize_columns(df_tt)\n",
    "df_biz = standardize_columns(df_biz)\n",
    "\n",
    "# Rename columns to match expected names for aggregation\n",
    "def rename_marketing_cols(df):\n",
    "    return df.rename(columns={\n",
    "        'impression': 'impressions',\n",
    "        'attributed_revenue': 'revenue'\n",
    "    })\n",
    "\n",
    "df_fb = rename_marketing_cols(df_fb)\n",
    "df_gg = rename_marketing_cols(df_gg)\n",
    "df_tt = rename_marketing_cols(df_tt)\n",
    "\n",
    "# Rename business columns for consistency\n",
    "df_biz = df_biz.rename(columns={\n",
    "    'total_revenue': 'business_total_revenue',\n",
    "    'gross_profit': 'business_gross_profit',\n",
    "    'num_of_orders': 'business_orders',\n",
    "    'num_of_new_orders': 'business_new_orders',\n",
    "    'new_customers': 'business_new_customers',\n",
    "    'cogs': 'business_cogs'\n",
    "})"
   ]
  },
  {
   "cell_type": "markdown",
   "id": "5b76edee",
   "metadata": {},
   "source": [
    "## 4. Aggregate Marketing Spend and Revenue by Date\n",
    "Group Facebook, Google, and TikTok data by date, summing spend, impressions, clicks, and revenue for each day."
   ]
  },
  {
   "cell_type": "code",
   "execution_count": 6,
   "id": "a8bab86e",
   "metadata": {},
   "outputs": [],
   "source": [
    "# Aggregate by date for each channel\n",
    "def agg_channel(df, channel):\n",
    "    agg = df.groupby('date').agg({\n",
    "        'spend': 'sum',\n",
    "        'impressions': 'sum',\n",
    "        'clicks': 'sum',\n",
    "        'revenue': 'sum'\n",
    "    }).rename(lambda x: f\"{channel}_\" + x, axis=1)\n",
    "    return agg\n",
    "\n",
    "agg_fb = agg_channel(df_fb, 'fb')\n",
    "agg_gg = agg_channel(df_gg, 'gg')\n",
    "agg_tt = agg_channel(df_tt, 'tt')\n",
    "\n",
    "# Merge all marketing data on date\n",
    "df_marketing = agg_fb.join([agg_gg, agg_tt], how='outer')"
   ]
  },
  {
   "cell_type": "markdown",
   "id": "a8531c88",
   "metadata": {},
   "source": [
    "## 5. Join Business Performance Data\n",
    "Merge the aggregated marketing data with the business performance data on the date column."
   ]
  },
  {
   "cell_type": "code",
   "execution_count": 7,
   "id": "76a60577",
   "metadata": {},
   "outputs": [],
   "source": [
    "# Set date as index for business data\n",
    "df_biz_idx = df_biz.set_index('date')\n",
    "\n",
    "# Merge with marketing data\n",
    "df_merged = df_marketing.join(df_biz_idx, how='outer')"
   ]
  },
  {
   "cell_type": "markdown",
   "id": "0cca8315",
   "metadata": {},
   "source": [
    "## 6. Handle Missing Dates and Fill Gaps\n",
    "Create a complete date range covering all dates in the dataset, reindex the merged DataFrame, and fill missing values appropriately."
   ]
  },
  {
   "cell_type": "code",
   "execution_count": 8,
   "id": "e8ac864a",
   "metadata": {},
   "outputs": [],
   "source": [
    "# Create a complete date range\n",
    "full_range = pd.date_range(df_merged.index.min(), df_merged.index.max(), freq='D')\n",
    "df_merged = df_merged.reindex(full_range)\n",
    "df_merged.index.name = 'date'\n",
    "\n",
    "# Fill missing values: 0 for spend/clicks/impressions/revenue, ffill for business KPIs\n",
    "for col in df_merged.columns:\n",
    "    if any(x in col for x in ['spend', 'clicks', 'impressions', 'revenue']):\n",
    "        df_merged[col] = df_merged[col].fillna(0)\n",
    "    else:\n",
    "        df_merged[col] = df_merged[col].ffill()"
   ]
  },
  {
   "cell_type": "markdown",
   "id": "30b0d9e9",
   "metadata": {},
   "source": [
    "## 7. Derive CTR, CPC, and ROAS Metrics\n",
    "Calculate Click-Through Rate (CTR), Cost Per Click (CPC), and Return on Ad Spend (ROAS) for each day."
   ]
  },
  {
   "cell_type": "code",
   "execution_count": 9,
   "id": "c9e3f9fd",
   "metadata": {},
   "outputs": [],
   "source": [
    "# Calculate total spend, clicks, impressions, revenue per day\n",
    "df_merged['total_spend'] = df_merged[[c for c in df_merged.columns if 'spend' in c]].sum(axis=1)\n",
    "df_merged['total_clicks'] = df_merged[[c for c in df_merged.columns if 'clicks' in c]].sum(axis=1)\n",
    "df_merged['total_impressions'] = df_merged[[c for c in df_merged.columns if 'impressions' in c]].sum(axis=1)\n",
    "df_merged['total_revenue'] = df_merged[[c for c in df_merged.columns if 'revenue' in c and not c.startswith('business')]].sum(axis=1)\n",
    "\n",
    "# CTR: Clicks / Impressions\n",
    "# CPC: Spend / Clicks\n",
    "# ROAS: Revenue / Spend\n",
    "df_merged['ctr'] = np.where(df_merged['total_impressions'] > 0, df_merged['total_clicks'] / df_merged['total_impressions'], np.nan)\n",
    "df_merged['cpc'] = np.where(df_merged['total_clicks'] > 0, df_merged['total_spend'] / df_merged['total_clicks'], np.nan)\n",
    "df_merged['roas'] = np.where(df_merged['total_spend'] > 0, df_merged['total_revenue'] / df_merged['total_spend'], np.nan)"
   ]
  },
  {
   "cell_type": "code",
   "execution_count": 10,
   "id": "e84e2322",
   "metadata": {},
   "outputs": [
    {
     "data": {
      "text/html": [
       "<div>\n",
       "<style scoped>\n",
       "    .dataframe tbody tr th:only-of-type {\n",
       "        vertical-align: middle;\n",
       "    }\n",
       "\n",
       "    .dataframe tbody tr th {\n",
       "        vertical-align: top;\n",
       "    }\n",
       "\n",
       "    .dataframe thead th {\n",
       "        text-align: right;\n",
       "    }\n",
       "</style>\n",
       "<table border=\"1\" class=\"dataframe\">\n",
       "  <thead>\n",
       "    <tr style=\"text-align: right;\">\n",
       "      <th></th>\n",
       "      <th>fb_spend</th>\n",
       "      <th>fb_impressions</th>\n",
       "      <th>fb_clicks</th>\n",
       "      <th>fb_revenue</th>\n",
       "      <th>gg_spend</th>\n",
       "      <th>gg_impressions</th>\n",
       "      <th>gg_clicks</th>\n",
       "      <th>gg_revenue</th>\n",
       "      <th>tt_spend</th>\n",
       "      <th>tt_impressions</th>\n",
       "      <th>...</th>\n",
       "      <th>business_total_revenue</th>\n",
       "      <th>business_gross_profit</th>\n",
       "      <th>business_cogs</th>\n",
       "      <th>total_spend</th>\n",
       "      <th>total_clicks</th>\n",
       "      <th>total_impressions</th>\n",
       "      <th>total_revenue</th>\n",
       "      <th>ctr</th>\n",
       "      <th>cpc</th>\n",
       "      <th>roas</th>\n",
       "    </tr>\n",
       "    <tr>\n",
       "      <th>date</th>\n",
       "      <th></th>\n",
       "      <th></th>\n",
       "      <th></th>\n",
       "      <th></th>\n",
       "      <th></th>\n",
       "      <th></th>\n",
       "      <th></th>\n",
       "      <th></th>\n",
       "      <th></th>\n",
       "      <th></th>\n",
       "      <th></th>\n",
       "      <th></th>\n",
       "      <th></th>\n",
       "      <th></th>\n",
       "      <th></th>\n",
       "      <th></th>\n",
       "      <th></th>\n",
       "      <th></th>\n",
       "      <th></th>\n",
       "      <th></th>\n",
       "      <th></th>\n",
       "    </tr>\n",
       "  </thead>\n",
       "  <tbody>\n",
       "    <tr>\n",
       "      <th>2025-05-16</th>\n",
       "      <td>15440.67</td>\n",
       "      <td>1475903</td>\n",
       "      <td>19638</td>\n",
       "      <td>40775.59</td>\n",
       "      <td>12669.47</td>\n",
       "      <td>2033462</td>\n",
       "      <td>83448</td>\n",
       "      <td>36422.52</td>\n",
       "      <td>11997.12</td>\n",
       "      <td>1432113</td>\n",
       "      <td>...</td>\n",
       "      <td>238010.95</td>\n",
       "      <td>124434.71</td>\n",
       "      <td>113576.24</td>\n",
       "      <td>40107.26</td>\n",
       "      <td>125323</td>\n",
       "      <td>4941478</td>\n",
       "      <td>110281.85</td>\n",
       "      <td>0.025361</td>\n",
       "      <td>0.320031</td>\n",
       "      <td>2.749673</td>\n",
       "    </tr>\n",
       "    <tr>\n",
       "      <th>2025-05-17</th>\n",
       "      <td>17210.84</td>\n",
       "      <td>1677399</td>\n",
       "      <td>21777</td>\n",
       "      <td>42695.57</td>\n",
       "      <td>13250.04</td>\n",
       "      <td>1905351</td>\n",
       "      <td>79998</td>\n",
       "      <td>39544.91</td>\n",
       "      <td>11222.08</td>\n",
       "      <td>1462304</td>\n",
       "      <td>...</td>\n",
       "      <td>224086.40</td>\n",
       "      <td>126119.02</td>\n",
       "      <td>97967.38</td>\n",
       "      <td>41682.96</td>\n",
       "      <td>124233</td>\n",
       "      <td>5045054</td>\n",
       "      <td>114401.63</td>\n",
       "      <td>0.024625</td>\n",
       "      <td>0.335522</td>\n",
       "      <td>2.744566</td>\n",
       "    </tr>\n",
       "    <tr>\n",
       "      <th>2025-05-18</th>\n",
       "      <td>17492.64</td>\n",
       "      <td>1687499</td>\n",
       "      <td>23297</td>\n",
       "      <td>46380.88</td>\n",
       "      <td>12191.80</td>\n",
       "      <td>1880528</td>\n",
       "      <td>76834</td>\n",
       "      <td>40701.78</td>\n",
       "      <td>13274.73</td>\n",
       "      <td>1689160</td>\n",
       "      <td>...</td>\n",
       "      <td>226582.57</td>\n",
       "      <td>128282.08</td>\n",
       "      <td>98300.49</td>\n",
       "      <td>42959.17</td>\n",
       "      <td>125364</td>\n",
       "      <td>5257187</td>\n",
       "      <td>123677.58</td>\n",
       "      <td>0.023846</td>\n",
       "      <td>0.342675</td>\n",
       "      <td>2.878956</td>\n",
       "    </tr>\n",
       "    <tr>\n",
       "      <th>2025-05-19</th>\n",
       "      <td>16296.34</td>\n",
       "      <td>1600554</td>\n",
       "      <td>21285</td>\n",
       "      <td>42482.04</td>\n",
       "      <td>12085.40</td>\n",
       "      <td>1679868</td>\n",
       "      <td>70965</td>\n",
       "      <td>37043.71</td>\n",
       "      <td>11556.30</td>\n",
       "      <td>1487766</td>\n",
       "      <td>...</td>\n",
       "      <td>203540.86</td>\n",
       "      <td>100212.05</td>\n",
       "      <td>103328.81</td>\n",
       "      <td>39938.04</td>\n",
       "      <td>115391</td>\n",
       "      <td>4768188</td>\n",
       "      <td>111469.36</td>\n",
       "      <td>0.024200</td>\n",
       "      <td>0.346111</td>\n",
       "      <td>2.791057</td>\n",
       "    </tr>\n",
       "    <tr>\n",
       "      <th>2025-05-20</th>\n",
       "      <td>14728.15</td>\n",
       "      <td>1642554</td>\n",
       "      <td>21760</td>\n",
       "      <td>39414.45</td>\n",
       "      <td>8239.23</td>\n",
       "      <td>1846924</td>\n",
       "      <td>68390</td>\n",
       "      <td>23916.80</td>\n",
       "      <td>10250.38</td>\n",
       "      <td>1321766</td>\n",
       "      <td>...</td>\n",
       "      <td>188081.24</td>\n",
       "      <td>115962.11</td>\n",
       "      <td>72119.13</td>\n",
       "      <td>33217.76</td>\n",
       "      <td>109106</td>\n",
       "      <td>4811244</td>\n",
       "      <td>92178.22</td>\n",
       "      <td>0.022677</td>\n",
       "      <td>0.304454</td>\n",
       "      <td>2.774968</td>\n",
       "    </tr>\n",
       "  </tbody>\n",
       "</table>\n",
       "<p>5 rows × 25 columns</p>\n",
       "</div>"
      ],
      "text/plain": [
       "            fb_spend  fb_impressions  fb_clicks  fb_revenue  gg_spend  \\\n",
       "date                                                                    \n",
       "2025-05-16  15440.67         1475903      19638    40775.59  12669.47   \n",
       "2025-05-17  17210.84         1677399      21777    42695.57  13250.04   \n",
       "2025-05-18  17492.64         1687499      23297    46380.88  12191.80   \n",
       "2025-05-19  16296.34         1600554      21285    42482.04  12085.40   \n",
       "2025-05-20  14728.15         1642554      21760    39414.45   8239.23   \n",
       "\n",
       "            gg_impressions  gg_clicks  gg_revenue  tt_spend  tt_impressions  \\\n",
       "date                                                                          \n",
       "2025-05-16         2033462      83448    36422.52  11997.12         1432113   \n",
       "2025-05-17         1905351      79998    39544.91  11222.08         1462304   \n",
       "2025-05-18         1880528      76834    40701.78  13274.73         1689160   \n",
       "2025-05-19         1679868      70965    37043.71  11556.30         1487766   \n",
       "2025-05-20         1846924      68390    23916.80  10250.38         1321766   \n",
       "\n",
       "            ...  business_total_revenue  business_gross_profit  business_cogs  \\\n",
       "date        ...                                                                 \n",
       "2025-05-16  ...               238010.95              124434.71      113576.24   \n",
       "2025-05-17  ...               224086.40              126119.02       97967.38   \n",
       "2025-05-18  ...               226582.57              128282.08       98300.49   \n",
       "2025-05-19  ...               203540.86              100212.05      103328.81   \n",
       "2025-05-20  ...               188081.24              115962.11       72119.13   \n",
       "\n",
       "            total_spend  total_clicks  total_impressions  total_revenue  \\\n",
       "date                                                                      \n",
       "2025-05-16     40107.26        125323            4941478      110281.85   \n",
       "2025-05-17     41682.96        124233            5045054      114401.63   \n",
       "2025-05-18     42959.17        125364            5257187      123677.58   \n",
       "2025-05-19     39938.04        115391            4768188      111469.36   \n",
       "2025-05-20     33217.76        109106            4811244       92178.22   \n",
       "\n",
       "                 ctr       cpc      roas  \n",
       "date                                      \n",
       "2025-05-16  0.025361  0.320031  2.749673  \n",
       "2025-05-17  0.024625  0.335522  2.744566  \n",
       "2025-05-18  0.023846  0.342675  2.878956  \n",
       "2025-05-19  0.024200  0.346111  2.791057  \n",
       "2025-05-20  0.022677  0.304454  2.774968  \n",
       "\n",
       "[5 rows x 25 columns]"
      ]
     },
     "execution_count": 10,
     "metadata": {},
     "output_type": "execute_result"
    }
   ],
   "source": [
    "# The df_merged DataFrame is now a daily panel with all metrics\n",
    "panel_df = df_merged.copy()\n",
    "panel_df.head()"
   ]
  },
  {
   "cell_type": "markdown",
   "id": "54b72855",
   "metadata": {},
   "source": [
    "## 9. Export Final DataFrame to df_final.csv\n",
    "Save the final daily panel DataFrame as df_final.csv in the data/ directory."
   ]
  },
  {
   "cell_type": "code",
   "execution_count": 11,
   "id": "de0a983b",
   "metadata": {},
   "outputs": [
    {
     "name": "stdout",
     "output_type": "stream",
     "text": [
      "Exported df_final.csv to data/\n"
     ]
    }
   ],
   "source": [
    "# Export to CSV\n",
    "panel_df.to_csv(DATA_DIR / 'df_final.csv')\n",
    "print('Exported df_final.csv to data/')"
   ]
  },
  {
   "cell_type": "code",
   "execution_count": 12,
   "id": "c119e623",
   "metadata": {},
   "outputs": [
    {
     "name": "stdout",
     "output_type": "stream",
     "text": [
      "Exported df_final.csv to data/\n"
     ]
    }
   ],
   "source": [
    "# Export to CSV\n",
    "panel_df.to_csv(DATA_DIR / 'df_final.csv')\n",
    "print('Exported df_final.csv to data/')"
   ]
  },
  {
   "cell_type": "markdown",
   "id": "a2eb5b6b",
   "metadata": {},
   "source": [
    "## 8. Merge All Data into Daily Panel DataFrame\n",
    "Combine all processed data into a single daily panel DataFrame, ensuring all metrics are included."
   ]
  }
 ],
 "metadata": {
  "kernelspec": {
   "display_name": "Python 3",
   "language": "python",
   "name": "python3"
  },
  "language_info": {
   "codemirror_mode": {
    "name": "ipython",
    "version": 3
   },
   "file_extension": ".py",
   "mimetype": "text/x-python",
   "name": "python",
   "nbconvert_exporter": "python",
   "pygments_lexer": "ipython3",
   "version": "3.12.1"
  }
 },
 "nbformat": 4,
 "nbformat_minor": 5
}
